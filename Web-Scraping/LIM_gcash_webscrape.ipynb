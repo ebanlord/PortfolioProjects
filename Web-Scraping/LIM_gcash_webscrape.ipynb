{
 "cells": [
  {
   "cell_type": "code",
   "execution_count": 3,
   "id": "e845ace3",
   "metadata": {},
   "outputs": [],
   "source": [
    "import requests\n",
    "from bs4 import BeautifulSoup\n",
    "import csv\n",
    "\n",
    "url = 'https://www.gcash.com/partners/billers'\n",
    "response = requests.get(url)\n",
    "response = response.content\n",
    "\n",
    "soup1 = BeautifulSoup(response, 'html.parser')\n",
    "soup2 = BeautifulSoup(soup1.prettify(), 'html.parser')"
   ]
  },
  {
   "cell_type": "code",
   "execution_count": 5,
   "id": "d3ca9277",
   "metadata": {},
   "outputs": [],
   "source": [
    "grid = soup2.find('div', id = 'footable_parent_346377')\n",
    "grid_items = grid.find_all('tr')\n",
    "data = []\n",
    "\n",
    "for row in grid_items:\n",
    "    cells = row.find_all('td')\n",
    "    cell_texts = [cell.text.strip() for cell in cells]\n",
    "    if cell_texts:\n",
    "        data.append(cell_texts)\n",
    "\n",
    "header = ['Biller', 'Type', 'Gcredit Acceptance', 'Additional Fee', 'Processing Time']\n",
    "file_path = r\"C:\\Users\\Evann Lim\\Documents\\Shopee Assessment\\LIM_EVANN_BZT_EXTERNAL\\Scrape\\GCash\\LIM_gcash_webscrape.csv\"\n",
    "\n",
    "with open(file_path, mode='w', newline='', encoding='utf-8') as file:\n",
    "    writer = csv.writer(file)\n",
    "    writer.writerow(header)\n",
    "    writer.writerows(data)"
   ]
  },
  {
   "cell_type": "code",
   "execution_count": null,
   "id": "43a9b676",
   "metadata": {},
   "outputs": [],
   "source": []
  }
 ],
 "metadata": {
  "kernelspec": {
   "display_name": "Python 3 (ipykernel)",
   "language": "python",
   "name": "python3"
  },
  "language_info": {
   "codemirror_mode": {
    "name": "ipython",
    "version": 3
   },
   "file_extension": ".py",
   "mimetype": "text/x-python",
   "name": "python",
   "nbconvert_exporter": "python",
   "pygments_lexer": "ipython3",
   "version": "3.10.9"
  }
 },
 "nbformat": 4,
 "nbformat_minor": 5
}
